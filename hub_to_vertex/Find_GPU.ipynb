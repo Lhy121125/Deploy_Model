{
  "cells": [
    {
      "cell_type": "code",
      "execution_count": null,
      "metadata": {
        "id": "aQvNxjthevYx"
      },
      "outputs": [],
      "source": [
        "!pip install google-cloud-aiplatform"
      ]
    },
    {
      "cell_type": "code",
      "execution_count": null,
      "metadata": {},
      "outputs": [],
      "source": [
        "!pip install --upgrade google-api-python-client"
      ]
    },
    {
      "cell_type": "code",
      "execution_count": 10,
      "metadata": {
        "id": "Jl7lKIfM3OTi"
      },
      "outputs": [],
      "source": [
        "from google.auth.transport.requests import Request\n",
        "from google.oauth2.service_account import Credentials\n",
        "from googleapiclient import discovery\n",
        "from google.oauth2 import service_account\n",
        "import google.auth\n",
        "import random\n",
        "from googleapiclient.errors import HttpError\n",
        "import json"
      ]
    },
    {
      "cell_type": "code",
      "execution_count": 30,
      "metadata": {
        "id": "N6HpHdxWqcNL"
      },
      "outputs": [],
      "source": [
        "# You should change it to your own key path or use the oauth authenticate your GCP\n",
        "key_path = \"keys/rag-nick-2661627e4595.json\""
      ]
    },
    {
      "cell_type": "code",
      "execution_count": 38,
      "metadata": {},
      "outputs": [
        {
          "name": "stdout",
          "output_type": "stream",
          "text": [
            "Updated property [core/project].\n"
          ]
        }
      ],
      "source": [
        "!gcloud config set project rag-nick"
      ]
    },
    {
      "cell_type": "code",
      "execution_count": 40,
      "metadata": {},
      "outputs": [
        {
          "name": "stdout",
          "output_type": "stream",
          "text": [
            "NAME                     CPUS  DISKS_GB  ADDRESSES  RESERVED_ADDRESSES  STATUS  TURNDOWN_DATE\n",
            "africa-south1            0/24  0/4096    0/8        0/8                 UP\n",
            "asia-east1               0/24  0/4096    0/8        0/8                 UP\n",
            "asia-east2               0/24  0/4096    0/8        0/8                 UP\n",
            "asia-northeast1          0/24  0/4096    0/8        0/8                 UP\n",
            "asia-northeast2          0/24  0/4096    0/8        0/8                 UP\n",
            "asia-northeast3          0/24  0/4096    0/8        0/8                 UP\n",
            "asia-south1              0/24  0/4096    0/8        0/8                 UP\n",
            "asia-south2              0/24  0/4096    0/8        0/8                 UP\n",
            "asia-southeast1          0/24  0/4096    0/8        0/8                 UP\n",
            "asia-southeast2          0/24  0/4096    0/8        0/8                 UP\n",
            "australia-southeast1     0/24  0/4096    0/8        0/8                 UP\n",
            "australia-southeast2     0/24  0/4096    0/8        0/8                 UP\n",
            "europe-central2          0/24  0/4096    0/8        0/8                 UP\n",
            "europe-north1            0/24  0/4096    0/8        0/8                 UP\n",
            "europe-southwest1        0/24  0/4096    0/8        0/8                 UP\n",
            "europe-west1             0/24  0/4096    0/8        0/8                 UP\n",
            "europe-west10            0/24  0/4096    0/8        0/8                 UP\n",
            "europe-west12            0/24  0/4096    0/8        0/8                 UP\n",
            "europe-west2             0/24  0/4096    0/8        0/8                 UP\n",
            "europe-west3             0/24  0/4096    0/8        0/8                 UP\n",
            "europe-west4             0/24  0/4096    0/8        0/8                 UP\n",
            "europe-west6             0/24  0/4096    0/8        0/8                 UP\n",
            "europe-west8             0/24  0/4096    0/8        0/8                 UP\n",
            "europe-west9             0/24  0/4096    0/8        0/8                 UP\n",
            "me-central1              0/24  0/4096    0/8        0/8                 UP\n",
            "me-central2              0/24  0/4096    0/8        0/8                 UP\n",
            "me-west1                 0/24  0/4096    0/8        0/8                 UP\n",
            "northamerica-northeast1  0/24  0/4096    0/8        0/8                 UP\n",
            "northamerica-northeast2  0/24  0/4096    0/8        0/8                 UP\n",
            "southamerica-east1       0/24  0/4096    0/8        0/8                 UP\n",
            "southamerica-west1       0/24  0/4096    0/8        0/8                 UP\n",
            "us-central1              3/24  65/4096   3/8        0/8                 UP\n",
            "us-east1                 0/24  0/4096    0/8        0/8                 UP\n",
            "us-east4                 0/24  0/4096    0/8        0/8                 UP\n",
            "us-east5                 0/24  0/4096    0/8        0/8                 UP\n",
            "us-south1                0/24  0/4096    0/8        0/8                 UP\n",
            "us-west1                 0/24  0/4096    0/8        0/8                 UP\n",
            "us-west2                 0/24  0/4096    0/8        0/8                 UP\n",
            "us-west3                 0/24  0/4096    0/8        0/8                 UP\n",
            "us-west4                 0/24  0/4096    0/8        0/8                 UP\n"
          ]
        }
      ],
      "source": [
        "!gcloud compute regions list --project=rag-nick"
      ]
    },
    {
      "cell_type": "code",
      "execution_count": 41,
      "metadata": {
        "id": "pzGNoxdo3phZ"
      },
      "outputs": [],
      "source": [
        "credentials = Credentials.from_service_account_file(\n",
        "    key_path,\n",
        "    scopes = ['https://www.googleapis.com/auth/cloud-platform']\n",
        ")\n",
        "\n",
        "if credentials.expired:\n",
        "  credentials.refresh(Request())"
      ]
    },
    {
      "cell_type": "code",
      "execution_count": 42,
      "metadata": {
        "id": "xYAPNaAq3pbs"
      },
      "outputs": [],
      "source": [
        "PROJECT_ID = \"rag-nick\""
      ]
    },
    {
      "cell_type": "code",
      "execution_count": 48,
      "metadata": {
        "id": "XLiBmZ9vXzMI"
      },
      "outputs": [],
      "source": [
        "compute = discovery.build('compute', 'v1', credentials=credentials)\n",
        "\n",
        "zones_to_check = 50\n",
        "\n",
        "def list_gpus(project_id, zone):\n",
        "    # this function get the lists of accelerators that this zone has\n",
        "    response = compute.acceleratorTypes().list(project=project_id, zone=zone).execute()\n",
        "    return response.get('items', [])\n",
        "\n",
        "\n",
        "def find_gpu(project_id):\n",
        "    # This function shuffle the regions loop 10 times to see if there are accelerator available\n",
        "    regions_response = compute.regions().list(project=PROJECT_ID).execute()\n",
        "    regions = [region['name'] for region in regions_response['items']]\n",
        "\n",
        "    random.shuffle(regions)\n",
        "\n",
        "    gpu_availability = []\n",
        "\n",
        "    for region in regions:\n",
        "        zones_response = compute.zones().list(project=project_id).execute()\n",
        "        for zone_info in zones_response['items']:\n",
        "            if zone_info['region'].endswith(region):\n",
        "                zone = zone_info['name']\n",
        "                gpus = list_gpus(project_id, zone)\n",
        "                if gpus:\n",
        "                    for gpu in gpus:\n",
        "                        gpu_availability.append({\n",
        "                            \"region\": region,\n",
        "                            \"zone\": zone,\n",
        "                            \"gpu_type\": gpu['name'],\n",
        "                            \"description\": gpu['description']\n",
        "                        })\n",
        "                if len(gpu_availability) >= zones_to_check:\n",
        "                    return gpu_availability\n",
        "\n",
        "    return gpu_availability\n",
        "\n",
        "\n"
      ]
    },
    {
      "cell_type": "code",
      "execution_count": 49,
      "metadata": {
        "colab": {
          "base_uri": "https://localhost:8080/"
        },
        "id": "R87XufRrX-0F",
        "outputId": "56b81e5b-bda7-4506-ff04-f34619b236da"
      },
      "outputs": [],
      "source": [
        "# Show you the original result\n",
        "results = find_gpu(\"rag-nick\")"
      ]
    },
    {
      "cell_type": "markdown",
      "metadata": {
        "id": "6Trmtx_C652f"
      },
      "source": [
        "Note that there are three type of failed reason I have encountered:\n",
        "\n",
        "1.   No GPU available\n",
        "2.   GPU is already created in the same region - you cannot have same vm with same configuration in one region\n",
        "3.   Machine image not match the GPU: This isn't shown up in this iteration, but this error means that some GPU such as A100, H100, requires g2 CPU, here I just don't choose g2 since I just want cheaper GPU for demo, so if you encounter this, you can just rerun.\n",
        "\n",
        "\n",
        "\n",
        "\n"
      ]
    },
    {
      "cell_type": "code",
      "execution_count": null,
      "metadata": {},
      "outputs": [],
      "source": [
        "!pip install prettytable\n",
        "!pip install pandas"
      ]
    },
    {
      "cell_type": "code",
      "execution_count": 53,
      "metadata": {
        "colab": {
          "base_uri": "https://localhost:8080/"
        },
        "id": "pTEg_u9S0X0F",
        "outputId": "b66b5c58-b50f-433a-c02d-77b3f33e0e4e"
      },
      "outputs": [
        {
          "name": "stdout",
          "output_type": "stream",
          "text": [
            "+-----------------+-------------------+-----------------------+---------------------------------------+\n",
            "|      region     |        zone       |        gpu_type       |              description              |\n",
            "+-----------------+-------------------+-----------------------+---------------------------------------+\n",
            "|     us-east4    |     us-east4-c    |    nvidia-a100-80gb   |            NVIDIA A100 80GB           |\n",
            "|     us-east4    |     us-east4-c    |    nvidia-h100-80gb   |            NVIDIA H100 80GB           |\n",
            "|     us-east4    |     us-east4-c    |       nvidia-l4       |               NVIDIA L4               |\n",
            "|     us-east4    |     us-east4-c    |     nvidia-l4-vws     |     NVIDIA L4 Virtual Workstation     |\n",
            "|     us-east4    |     us-east4-c    |    nvidia-tesla-p4    |            NVIDIA Tesla P4            |\n",
            "|     us-east4    |     us-east4-c    |  nvidia-tesla-p4-vws  |  NVIDIA Tesla P4 Virtual Workstation  |\n",
            "|     us-east4    |     us-east4-c    |    nvidia-tesla-t4    |               NVIDIA T4               |\n",
            "|     us-east4    |     us-east4-c    |  nvidia-tesla-t4-vws  |  NVIDIA Tesla T4 Virtual Workstation  |\n",
            "|     us-east4    |     us-east4-b    |    nvidia-h100-80gb   |            NVIDIA H100 80GB           |\n",
            "|     us-east4    |     us-east4-b    |    nvidia-tesla-p4    |            NVIDIA Tesla P4            |\n",
            "|     us-east4    |     us-east4-b    |  nvidia-tesla-p4-vws  |  NVIDIA Tesla P4 Virtual Workstation  |\n",
            "|     us-east4    |     us-east4-b    |    nvidia-tesla-t4    |               NVIDIA T4               |\n",
            "|     us-east4    |     us-east4-b    |  nvidia-tesla-t4-vws  |  NVIDIA Tesla T4 Virtual Workstation  |\n",
            "|     us-east4    |     us-east4-a    |    nvidia-h100-80gb   |            NVIDIA H100 80GB           |\n",
            "|     us-east4    |     us-east4-a    |       nvidia-l4       |               NVIDIA L4               |\n",
            "|     us-east4    |     us-east4-a    |     nvidia-l4-vws     |     NVIDIA L4 Virtual Workstation     |\n",
            "|     us-east4    |     us-east4-a    |    nvidia-tesla-p4    |            NVIDIA Tesla P4            |\n",
            "|     us-east4    |     us-east4-a    |  nvidia-tesla-p4-vws  |  NVIDIA Tesla P4 Virtual Workstation  |\n",
            "|     us-east4    |     us-east4-a    |    nvidia-tesla-t4    |               NVIDIA T4               |\n",
            "|     us-east4    |     us-east4-a    |  nvidia-tesla-t4-vws  |  NVIDIA Tesla T4 Virtual Workstation  |\n",
            "| europe-central2 | europe-central2-b |    nvidia-tesla-t4    |               NVIDIA T4               |\n",
            "| europe-central2 | europe-central2-b |  nvidia-tesla-t4-vws  |  NVIDIA Tesla T4 Virtual Workstation  |\n",
            "| europe-central2 | europe-central2-c |    nvidia-tesla-t4    |               NVIDIA T4               |\n",
            "| europe-central2 | europe-central2-c |  nvidia-tesla-t4-vws  |  NVIDIA Tesla T4 Virtual Workstation  |\n",
            "|   europe-west4  |   europe-west4-a  |         ct5lp         |                 ct5lp                 |\n",
            "|   europe-west4  |   europe-west4-a  |    nvidia-a100-80gb   |            NVIDIA A100 80GB           |\n",
            "|   europe-west4  |   europe-west4-a  |       nvidia-l4       |               NVIDIA L4               |\n",
            "|   europe-west4  |   europe-west4-a  |     nvidia-l4-vws     |     NVIDIA L4 Virtual Workstation     |\n",
            "|   europe-west4  |   europe-west4-a  |   nvidia-tesla-a100   |            NVIDIA A100 40GB           |\n",
            "|   europe-west4  |   europe-west4-a  |   nvidia-tesla-p100   |           NVIDIA Tesla P100           |\n",
            "|   europe-west4  |   europe-west4-a  | nvidia-tesla-p100-vws | NVIDIA Tesla P100 Virtual Workstation |\n",
            "|   europe-west4  |   europe-west4-a  |    nvidia-tesla-t4    |               NVIDIA T4               |\n",
            "|   europe-west4  |   europe-west4-a  |  nvidia-tesla-t4-vws  |  NVIDIA Tesla T4 Virtual Workstation  |\n",
            "|   europe-west4  |   europe-west4-a  |   nvidia-tesla-v100   |              NVIDIA V100              |\n",
            "|   europe-west4  |   europe-west4-b  |          ct5l         |                  ct5l                 |\n",
            "|   europe-west4  |   europe-west4-b  |         ct5lp         |                 ct5lp                 |\n",
            "|   europe-west4  |   europe-west4-b  |    nvidia-h100-80gb   |            NVIDIA H100 80GB           |\n",
            "|   europe-west4  |   europe-west4-b  |       nvidia-l4       |               NVIDIA L4               |\n",
            "|   europe-west4  |   europe-west4-b  |     nvidia-l4-vws     |     NVIDIA L4 Virtual Workstation     |\n",
            "|   europe-west4  |   europe-west4-b  |   nvidia-tesla-a100   |            NVIDIA A100 40GB           |\n",
            "|   europe-west4  |   europe-west4-b  |    nvidia-tesla-p4    |            NVIDIA Tesla P4            |\n",
            "|   europe-west4  |   europe-west4-b  |  nvidia-tesla-p4-vws  |  NVIDIA Tesla P4 Virtual Workstation  |\n",
            "|   europe-west4  |   europe-west4-b  |    nvidia-tesla-t4    |               NVIDIA T4               |\n",
            "|   europe-west4  |   europe-west4-b  |  nvidia-tesla-t4-vws  |  NVIDIA Tesla T4 Virtual Workstation  |\n",
            "|   europe-west4  |   europe-west4-b  |   nvidia-tesla-v100   |              NVIDIA V100              |\n",
            "|   europe-west4  |   europe-west4-c  |    nvidia-h100-80gb   |            NVIDIA H100 80GB           |\n",
            "|   europe-west4  |   europe-west4-c  |       nvidia-l4       |               NVIDIA L4               |\n",
            "|   europe-west4  |   europe-west4-c  |     nvidia-l4-vws     |     NVIDIA L4 Virtual Workstation     |\n",
            "|   europe-west4  |   europe-west4-c  |    nvidia-tesla-p4    |            NVIDIA Tesla P4            |\n",
            "|   europe-west4  |   europe-west4-c  |  nvidia-tesla-p4-vws  |  NVIDIA Tesla P4 Virtual Workstation  |\n",
            "|   europe-west4  |   europe-west4-c  |    nvidia-tesla-t4    |               NVIDIA T4               |\n",
            "|   europe-west4  |   europe-west4-c  |  nvidia-tesla-t4-vws  |  NVIDIA Tesla T4 Virtual Workstation  |\n",
            "|   europe-west4  |   europe-west4-c  |   nvidia-tesla-v100   |              NVIDIA V100              |\n",
            "+-----------------+-------------------+-----------------------+---------------------------------------+\n"
          ]
        }
      ],
      "source": [
        "from prettytable import PrettyTable\n",
        "import pandas as pd\n",
        "\n",
        "# print the table\n",
        "df = pd.DataFrame(results)\n",
        "table = PrettyTable()\n",
        "table.field_names = df.columns\n",
        "table.add_rows(df.values)\n",
        "print(table)"
      ]
    },
    {
      "cell_type": "markdown",
      "metadata": {},
      "source": [
        "Below are steps to verify the existence of GPU in command line, no need for the final project, we are just using it to find GPUs"
      ]
    },
    {
      "cell_type": "code",
      "execution_count": null,
      "metadata": {},
      "outputs": [],
      "source": [
        "!gcloud auth login"
      ]
    },
    {
      "cell_type": "code",
      "execution_count": null,
      "metadata": {
        "id": "qrxYwimbAaoF"
      },
      "outputs": [],
      "source": [
        "!gcloud config set project <YOUR PROJECT NAME>"
      ]
    },
    {
      "cell_type": "code",
      "execution_count": null,
      "metadata": {
        "colab": {
          "base_uri": "https://localhost:8080/"
        },
        "id": "fS-CCR85Afth",
        "outputId": "226cece6-d2cc-4dcc-9bdd-771918743c74"
      },
      "outputs": [
        {
          "name": "stdout",
          "output_type": "stream",
          "text": [
            "NAME         ZONE                  MACHINE_TYPE   PREEMPTIBLE  INTERNAL_IP  EXTERNAL_IP   STATUS\n",
            "vm-gpu-test  southamerica-east1-c  n1-standard-1               10.158.0.2   34.95.129.29  RUNNING\n"
          ]
        }
      ],
      "source": [
        "!gcloud compute instances list"
      ]
    },
    {
      "cell_type": "markdown",
      "metadata": {
        "id": "R-nUELF507Sl"
      },
      "source": [
        "Once Successed, you should be able to see:\n",
        "\n",
        "*   acceleratorCount: 1\n",
        "*   acceleratorType\n",
        "\n",
        "These represent the GPU is found!"
      ]
    },
    {
      "cell_type": "code",
      "execution_count": null,
      "metadata": {
        "colab": {
          "base_uri": "https://localhost:8080/"
        },
        "id": "pDyKcEd_Alm1",
        "outputId": "dbb52a18-752b-4bc8-8eae-c996ae49c9c8"
      },
      "outputs": [
        {
          "name": "stdout",
          "output_type": "stream",
          "text": [
            "cpuPlatform: Intel Broadwell\n",
            "creationTimestamp: '2024-02-22T18:32:13.416-08:00'\n",
            "deletionProtection: false\n",
            "disks:\n",
            "- architecture: X86_64\n",
            "  autoDelete: true\n",
            "  boot: true\n",
            "  deviceName: persistent-disk-0\n",
            "  diskSizeGb: '10'\n",
            "  guestOsFeatures:\n",
            "  - type: UEFI_COMPATIBLE\n",
            "  - type: VIRTIO_SCSI_MULTIQUEUE\n",
            "  - type: GVNIC\n",
            "  - type: SEV_CAPABLE\n",
            "  index: 0\n",
            "  interface: SCSI\n",
            "  kind: compute#attachedDisk\n",
            "  licenses:\n",
            "  - https://www.googleapis.com/compute/v1/projects/debian-cloud/global/licenses/debian-12-bookworm\n",
            "  mode: READ_WRITE\n",
            "  source: https://www.googleapis.com/compute/v1/projects/rag-nick/zones/southamerica-east1-c/disks/vm-gpu-test\n",
            "  type: PERSISTENT\n",
            "fingerprint: WT-YEP98GA8=\n",
            "guestAccelerators:\n",
            "- acceleratorCount: 1\n",
            "  acceleratorType: https://www.googleapis.com/compute/v1/projects/rag-nick/zones/southamerica-east1-c/acceleratorTypes/nvidia-tesla-t4\n",
            "id: '1371832550560218445'\n",
            "kind: compute#instance\n",
            "labelFingerprint: 42WmSpB8rSM=\n",
            "lastStartTimestamp: '2024-02-22T18:32:42.040-08:00'\n",
            "machineType: https://www.googleapis.com/compute/v1/projects/rag-nick/zones/southamerica-east1-c/machineTypes/n1-standard-1\n",
            "metadata:\n",
            "  fingerprint: ypqvjA20jL8=\n",
            "  kind: compute#metadata\n",
            "name: vm-gpu-test\n",
            "networkInterfaces:\n",
            "- accessConfigs:\n",
            "  - kind: compute#accessConfig\n",
            "    name: External NAT\n",
            "    natIP: 34.95.129.29\n",
            "    networkTier: PREMIUM\n",
            "    type: ONE_TO_ONE_NAT\n",
            "  fingerprint: 5vK_I00HB18=\n",
            "  kind: compute#networkInterface\n",
            "  name: nic0\n",
            "  network: https://www.googleapis.com/compute/v1/projects/rag-nick/global/networks/default\n",
            "  networkIP: 10.158.0.2\n",
            "  stackType: IPV4_ONLY\n",
            "  subnetwork: https://www.googleapis.com/compute/v1/projects/rag-nick/regions/southamerica-east1/subnetworks/default\n",
            "scheduling:\n",
            "  automaticRestart: true\n",
            "  onHostMaintenance: TERMINATE\n",
            "  preemptible: false\n",
            "  provisioningModel: STANDARD\n",
            "selfLink: https://www.googleapis.com/compute/v1/projects/rag-nick/zones/southamerica-east1-c/instances/vm-gpu-test\n",
            "serviceAccounts:\n",
            "- email: 522870214401-compute@developer.gserviceaccount.com\n",
            "  scopes:\n",
            "  - https://www.googleapis.com/auth/devstorage.read_only\n",
            "  - https://www.googleapis.com/auth/logging.write\n",
            "  - https://www.googleapis.com/auth/monitoring.write\n",
            "  - https://www.googleapis.com/auth/servicecontrol\n",
            "  - https://www.googleapis.com/auth/service.management.readonly\n",
            "  - https://www.googleapis.com/auth/trace.append\n",
            "shieldedInstanceConfig:\n",
            "  enableIntegrityMonitoring: true\n",
            "  enableSecureBoot: false\n",
            "  enableVtpm: true\n",
            "shieldedInstanceIntegrityPolicy:\n",
            "  updateAutoLearnPolicy: true\n",
            "startRestricted: false\n",
            "status: RUNNING\n",
            "tags:\n",
            "  fingerprint: 42WmSpB8rSM=\n",
            "zone: https://www.googleapis.com/compute/v1/projects/rag-nick/zones/southamerica-east1-c\n"
          ]
        }
      ],
      "source": [
        "!gcloud compute instances describe vm-gpu-test <THE ZONE THAT SUCCESS>"
      ]
    }
  ],
  "metadata": {
    "colab": {
      "provenance": []
    },
    "kernelspec": {
      "display_name": "Python 3",
      "name": "python3"
    },
    "language_info": {
      "codemirror_mode": {
        "name": "ipython",
        "version": 3
      },
      "file_extension": ".py",
      "mimetype": "text/x-python",
      "name": "python",
      "nbconvert_exporter": "python",
      "pygments_lexer": "ipython3",
      "version": "3.11.6"
    }
  },
  "nbformat": 4,
  "nbformat_minor": 0
}
